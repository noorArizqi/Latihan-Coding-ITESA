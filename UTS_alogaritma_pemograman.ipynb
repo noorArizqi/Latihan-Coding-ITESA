{
  "nbformat": 4,
  "nbformat_minor": 0,
  "metadata": {
    "colab": {
      "provenance": [],
      "name": "UTS_alogaritma_pemograman.ipynb",
      "authorship_tag": "ABX9TyOIojb9so2inTzQUZsJftIY",
      "include_colab_link": true
    },
    "kernelspec": {
      "name": "python3",
      "display_name": "Python 3"
    },
    "language_info": {
      "name": "python"
    }
  },
  "cells": [
    {
      "cell_type": "markdown",
      "metadata": {
        "id": "view-in-github",
        "colab_type": "text"
      },
      "source": [
        "<a href=\"https://colab.research.google.com/github/noorArizqi/Latihan-Coding-ITESA/blob/master/UTS_alogaritma_pemograman.ipynb\" target=\"_parent\"><img src=\"https://colab.research.google.com/assets/colab-badge.svg\" alt=\"Open In Colab\"/></a>"
      ]
    },
    {
      "cell_type": "code",
      "execution_count": null,
      "metadata": {
        "colab": {
          "base_uri": "https://localhost:8080/"
        },
        "id": "YGCZF6cK2tC5",
        "outputId": "8fa4f034-51ec-4fe6-afeb-0d274c7d69ec"
      },
      "outputs": [
        {
          "output_type": "stream",
          "name": "stdout",
          "text": [
            "Enter first number: 10\n",
            "Enter second number: 25\n",
            "Addition :  35.0\n",
            "Subtraction :  -15.0\n",
            "Multiplication :  250.0\n",
            "Division :  0.4\n"
          ]
        }
      ],
      "source": [
        "# Buat Program Kalkulator Sederhana dengan rule sebagai berikut: (20 Point)\n",
        "# a. Inputkan angka pertama\n",
        "# b. Inputkan angka kedua\n",
        "# c. Kalkulator sederhana: Penjumlahan, Pengurangan, Pengalian, Pembagian\n",
        "angka1 = float(input(\"Enter first number: \"))\n",
        "\n",
        "angka2 = float(input(\"Enter second number: \"))\n",
        "\n",
        "print(\"Addition : \", angka1 + angka2)\n",
        "print(\"Subtraction : \", angka1 - angka2)\n",
        "print(\"Multiplication : \", angka1 * angka2)\n",
        "print(\"Division : \", angka1 / angka2)"
      ]
    },
    {
      "cell_type": "code",
      "source": [
        "# Buble Sort Program: Buat Program untuk mengurukan angka dalam array/list, ketentuan: (30 Point)\n",
        "# a. Deret angka : [64, 34, 25, 12, 22, 11, 90]\n",
        "# b. Urutkan dari angka terendah ke tertinggi\n",
        "# c. Tampilan program\n",
        "\n",
        "deret_angka = [64, 34, 25, 12, 22, 11, 90]\n",
        "\n",
        "\n",
        "def bubble_sort(deret):\n",
        "    n = len(deret)\n",
        "   \n",
        "    for i in range(n):\n",
        "       \n",
        "        for j in range(0, n-i-1):\n",
        "            if deret[j] > deret[j+1]:\n",
        "                deret[j], deret[j+1] = deret[j+1], deret[j]\n",
        "\n",
        "bubble_sort(deret_angka)\n",
        "\n",
        "print(deret_angka)"
      ],
      "metadata": {
        "colab": {
          "base_uri": "https://localhost:8080/"
        },
        "id": "Pi6eSHjO42aM",
        "outputId": "eb821568-26c7-4bb6-c7d3-3124e9ae71a7"
      },
      "execution_count": null,
      "outputs": [
        {
          "output_type": "stream",
          "name": "stdout",
          "text": [
            "[11, 12, 22, 25, 34, 64, 90]\n"
          ]
        }
      ]
    }
  ]
}