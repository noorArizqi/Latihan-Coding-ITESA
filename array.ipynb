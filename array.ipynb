{
  "nbformat": 4,
  "nbformat_minor": 0,
  "metadata": {
    "colab": {
      "provenance": [],
      "authorship_tag": "ABX9TyOPY4aF0esoeVgFrFTXJCx6",
      "include_colab_link": true
    },
    "kernelspec": {
      "name": "python3",
      "display_name": "Python 3"
    },
    "language_info": {
      "name": "python"
    }
  },
  "cells": [
    {
      "cell_type": "markdown",
      "metadata": {
        "id": "view-in-github",
        "colab_type": "text"
      },
      "source": [
        "<a href=\"https://colab.research.google.com/github/noorArizqi/Latihan-Coding-ITESA/blob/master/array.ipynb\" target=\"_parent\"><img src=\"https://colab.research.google.com/assets/colab-badge.svg\" alt=\"Open In Colab\"/></a>"
      ]
    },
    {
      "cell_type": "code",
      "execution_count": 105,
      "metadata": {
        "colab": {
          "base_uri": "https://localhost:8080/"
        },
        "id": "jIBbb2HDpL-J",
        "outputId": "7852957f-d055-4247-8c86-3bee56f4cbba"
      },
      "outputs": [
        {
          "output_type": "stream",
          "name": "stdout",
          "text": [
            "['risky', 'citra', 'adi', 'danil', 'nia', 'veki', 'david', 'anfa']\n"
          ]
        }
      ],
      "source": [
        "daftar_mhs = [\"risky\", \"citra\", \"adi\", \"danil\", \"nia\", \"veki\", \"david\", \"anfa\"]\n",
        "print(daftar_mhs)"
      ]
    },
    {
      "cell_type": "code",
      "source": [
        "daftar_mhs1 = ['udin', 'muna']\n",
        "print(daftar_mhs1)"
      ],
      "metadata": {
        "colab": {
          "base_uri": "https://localhost:8080/"
        },
        "id": "RsrpYipJwBJt",
        "outputId": "16a858a7-f2c0-4595-9d94-5ed6463005cf"
      },
      "execution_count": 106,
      "outputs": [
        {
          "output_type": "stream",
          "name": "stdout",
          "text": [
            "['udin', 'muna']\n"
          ]
        }
      ]
    },
    {
      "cell_type": "code",
      "source": [
        "daftar_mhs = [\"risky\", \"citra\", \"adi\", \"danil\", \"nia\", \"veki\", \"david\", \"anfa\"]\n",
        "daftar_mhs.append(\"lucky\")\n",
        "print(daftar_mhs)"
      ],
      "metadata": {
        "colab": {
          "base_uri": "https://localhost:8080/"
        },
        "id": "hvRnyc57xqNh",
        "outputId": "9893e42a-187b-440f-e4d8-8083ed6aab33"
      },
      "execution_count": 107,
      "outputs": [
        {
          "output_type": "stream",
          "name": "stdout",
          "text": [
            "['risky', 'citra', 'adi', 'danil', 'nia', 'veki', 'david', 'anfa', 'lucky']\n"
          ]
        }
      ]
    },
    {
      "cell_type": "code",
      "source": [
        "daftar_mhs.extend(daftar_mhs1)\n",
        "print(daftar_mhs)"
      ],
      "metadata": {
        "colab": {
          "base_uri": "https://localhost:8080/"
        },
        "id": "-zizOIG6zraH",
        "outputId": "3d8fbb53-7d02-4dd2-f4d1-96f8f70f7700"
      },
      "execution_count": 108,
      "outputs": [
        {
          "output_type": "stream",
          "name": "stdout",
          "text": [
            "['risky', 'citra', 'adi', 'danil', 'nia', 'veki', 'david', 'anfa', 'lucky', 'udin', 'muna']\n"
          ]
        }
      ]
    },
    {
      "cell_type": "code",
      "source": [
        "a = len(daftar_mhs)\n",
        "print(a)"
      ],
      "metadata": {
        "colab": {
          "base_uri": "https://localhost:8080/"
        },
        "id": "G-iQ9UzTzHUr",
        "outputId": "34536969-3111-4c60-d615-44224fd2a194"
      },
      "execution_count": 109,
      "outputs": [
        {
          "output_type": "stream",
          "name": "stdout",
          "text": [
            "11\n"
          ]
        }
      ]
    },
    {
      "cell_type": "code",
      "source": [
        "print(daftar_mhs[0:5])"
      ],
      "metadata": {
        "colab": {
          "base_uri": "https://localhost:8080/"
        },
        "id": "VVbiNLM40jG3",
        "outputId": "0bcae9e3-3117-4316-91ba-e859aba9d4c6"
      },
      "execution_count": 110,
      "outputs": [
        {
          "output_type": "stream",
          "name": "stdout",
          "text": [
            "['risky', 'citra', 'adi', 'danil', 'nia']\n"
          ]
        }
      ]
    },
    {
      "cell_type": "code",
      "source": [
        "for x in daftar_mhs:\n",
        "  print(x)"
      ],
      "metadata": {
        "colab": {
          "base_uri": "https://localhost:8080/"
        },
        "id": "9KoID4H31m8q",
        "outputId": "9b54ff8e-a4a2-4179-f988-5cadb6e0dadb"
      },
      "execution_count": 111,
      "outputs": [
        {
          "output_type": "stream",
          "name": "stdout",
          "text": [
            "risky\n",
            "citra\n",
            "adi\n",
            "danil\n",
            "nia\n",
            "veki\n",
            "david\n",
            "anfa\n",
            "lucky\n",
            "udin\n",
            "muna\n"
          ]
        }
      ]
    },
    {
      "cell_type": "code",
      "source": [],
      "metadata": {
        "id": "Iao40UQh3pvR"
      },
      "execution_count": 111,
      "outputs": []
    },
    {
      "cell_type": "code",
      "source": [
        "stack = ['Aple','anggur','jeruk']\n",
        "print(stack)"
      ],
      "metadata": {
        "colab": {
          "base_uri": "https://localhost:8080/"
        },
        "id": "7NLsMhAO3qWz",
        "outputId": "7368e660-770a-4893-e907-f4974b1a72a2"
      },
      "execution_count": 112,
      "outputs": [
        {
          "output_type": "stream",
          "name": "stdout",
          "text": [
            "['Aple', 'anggur', 'jeruk']\n"
          ]
        }
      ]
    },
    {
      "cell_type": "code",
      "source": [
        "stack.append('jambu')\n",
        "print(stack)"
      ],
      "metadata": {
        "colab": {
          "base_uri": "https://localhost:8080/"
        },
        "id": "eLTtta063_ht",
        "outputId": "75164843-c3d7-48fa-8fb1-b0509b05f334"
      },
      "execution_count": 113,
      "outputs": [
        {
          "output_type": "stream",
          "name": "stdout",
          "text": [
            "['Aple', 'anggur', 'jeruk', 'jambu']\n"
          ]
        }
      ]
    },
    {
      "cell_type": "code",
      "source": [
        "stack.pop()\n",
        "print(stack)"
      ],
      "metadata": {
        "colab": {
          "base_uri": "https://localhost:8080/"
        },
        "id": "-HVOLC6t4IOu",
        "outputId": "078e8d53-b8a0-4a37-b098-7bee3e452248"
      },
      "execution_count": 114,
      "outputs": [
        {
          "output_type": "stream",
          "name": "stdout",
          "text": [
            "['Aple', 'anggur', 'jeruk']\n"
          ]
        }
      ]
    },
    {
      "cell_type": "code",
      "source": [
        "stack1 = ['wortel','brokoli','kol']\n",
        "stack.extend(stack1)\n",
        "print(stack)"
      ],
      "metadata": {
        "colab": {
          "base_uri": "https://localhost:8080/"
        },
        "id": "vTJu2rAG42PD",
        "outputId": "adba8af0-456e-4778-ebd6-7f806cb131d4"
      },
      "execution_count": 115,
      "outputs": [
        {
          "output_type": "stream",
          "name": "stdout",
          "text": [
            "['Aple', 'anggur', 'jeruk', 'wortel', 'brokoli', 'kol']\n"
          ]
        }
      ]
    },
    {
      "cell_type": "code",
      "source": [
        "x = len(stack)\n",
        "\n",
        "print(x)"
      ],
      "metadata": {
        "colab": {
          "base_uri": "https://localhost:8080/"
        },
        "id": "nEPEZuoH5SU-",
        "outputId": "01a354ad-8724-491c-e2c4-af055bd8508d"
      },
      "execution_count": 116,
      "outputs": [
        {
          "output_type": "stream",
          "name": "stdout",
          "text": [
            "6\n"
          ]
        }
      ]
    },
    {
      "cell_type": "code",
      "source": [
        "for x in stack:\n",
        "  print(x)"
      ],
      "metadata": {
        "colab": {
          "base_uri": "https://localhost:8080/"
        },
        "id": "2Ww7BZow5ufE",
        "outputId": "edc7ffea-9e11-402c-da9e-7d06da1efccc"
      },
      "execution_count": 117,
      "outputs": [
        {
          "output_type": "stream",
          "name": "stdout",
          "text": [
            "Aple\n",
            "anggur\n",
            "jeruk\n",
            "wortel\n",
            "brokoli\n",
            "kol\n"
          ]
        }
      ]
    },
    {
      "cell_type": "code",
      "source": [
        "stack.insert(3,'alpukat')\n",
        "print(stack)"
      ],
      "metadata": {
        "colab": {
          "base_uri": "https://localhost:8080/"
        },
        "id": "wwSIk-gL383Y",
        "outputId": "945feb88-18c8-4837-ddb8-35b361ff1828"
      },
      "execution_count": 118,
      "outputs": [
        {
          "output_type": "stream",
          "name": "stdout",
          "text": [
            "['Aple', 'anggur', 'jeruk', 'alpukat', 'wortel', 'brokoli', 'kol']\n"
          ]
        }
      ]
    }
  ]
}